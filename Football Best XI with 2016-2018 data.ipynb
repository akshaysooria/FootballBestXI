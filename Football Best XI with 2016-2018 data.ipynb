{
 "cells": [
  {
   "cell_type": "code",
   "execution_count": 3,
   "metadata": {},
   "outputs": [
    {
     "data": {
      "text/html": [
       "<div>\n",
       "<style scoped>\n",
       "    .dataframe tbody tr th:only-of-type {\n",
       "        vertical-align: middle;\n",
       "    }\n",
       "\n",
       "    .dataframe tbody tr th {\n",
       "        vertical-align: top;\n",
       "    }\n",
       "\n",
       "    .dataframe thead th {\n",
       "        text-align: right;\n",
       "    }\n",
       "</style>\n",
       "<table border=\"1\" class=\"dataframe\">\n",
       "  <thead>\n",
       "    <tr style=\"text-align: right;\">\n",
       "      <th></th>\n",
       "      <th>Name</th>\n",
       "      <th>Nationality</th>\n",
       "      <th>National_Position</th>\n",
       "      <th>National_Kit</th>\n",
       "      <th>Club</th>\n",
       "      <th>Club_Position</th>\n",
       "      <th>Club_Kit</th>\n",
       "      <th>Club_Joining</th>\n",
       "      <th>Contract_Expiry</th>\n",
       "      <th>Rating</th>\n",
       "      <th>...</th>\n",
       "      <th>Long_Shots</th>\n",
       "      <th>Curve</th>\n",
       "      <th>Freekick_Accuracy</th>\n",
       "      <th>Penalties</th>\n",
       "      <th>Volleys</th>\n",
       "      <th>GK_Positioning</th>\n",
       "      <th>GK_Diving</th>\n",
       "      <th>GK_Kicking</th>\n",
       "      <th>GK_Handling</th>\n",
       "      <th>GK_Reflexes</th>\n",
       "    </tr>\n",
       "  </thead>\n",
       "  <tbody>\n",
       "    <tr>\n",
       "      <th>0</th>\n",
       "      <td>Cristiano Ronaldo</td>\n",
       "      <td>Portugal</td>\n",
       "      <td>LS</td>\n",
       "      <td>7.0</td>\n",
       "      <td>Real Madrid</td>\n",
       "      <td>LW</td>\n",
       "      <td>7.0</td>\n",
       "      <td>07/01/2009</td>\n",
       "      <td>2021.0</td>\n",
       "      <td>94</td>\n",
       "      <td>...</td>\n",
       "      <td>90</td>\n",
       "      <td>81</td>\n",
       "      <td>76</td>\n",
       "      <td>85</td>\n",
       "      <td>88</td>\n",
       "      <td>14</td>\n",
       "      <td>7</td>\n",
       "      <td>15</td>\n",
       "      <td>11</td>\n",
       "      <td>11</td>\n",
       "    </tr>\n",
       "    <tr>\n",
       "      <th>1</th>\n",
       "      <td>Lionel Messi</td>\n",
       "      <td>Argentina</td>\n",
       "      <td>RW</td>\n",
       "      <td>10.0</td>\n",
       "      <td>FC Barcelona</td>\n",
       "      <td>RW</td>\n",
       "      <td>10.0</td>\n",
       "      <td>07/01/2004</td>\n",
       "      <td>2018.0</td>\n",
       "      <td>93</td>\n",
       "      <td>...</td>\n",
       "      <td>88</td>\n",
       "      <td>89</td>\n",
       "      <td>90</td>\n",
       "      <td>74</td>\n",
       "      <td>85</td>\n",
       "      <td>14</td>\n",
       "      <td>6</td>\n",
       "      <td>15</td>\n",
       "      <td>11</td>\n",
       "      <td>8</td>\n",
       "    </tr>\n",
       "    <tr>\n",
       "      <th>2</th>\n",
       "      <td>Neymar</td>\n",
       "      <td>Brazil</td>\n",
       "      <td>LW</td>\n",
       "      <td>10.0</td>\n",
       "      <td>FC Barcelona</td>\n",
       "      <td>LW</td>\n",
       "      <td>11.0</td>\n",
       "      <td>07/01/2013</td>\n",
       "      <td>2021.0</td>\n",
       "      <td>92</td>\n",
       "      <td>...</td>\n",
       "      <td>77</td>\n",
       "      <td>79</td>\n",
       "      <td>84</td>\n",
       "      <td>81</td>\n",
       "      <td>83</td>\n",
       "      <td>15</td>\n",
       "      <td>9</td>\n",
       "      <td>15</td>\n",
       "      <td>9</td>\n",
       "      <td>11</td>\n",
       "    </tr>\n",
       "    <tr>\n",
       "      <th>3</th>\n",
       "      <td>Luis Suárez</td>\n",
       "      <td>Uruguay</td>\n",
       "      <td>LS</td>\n",
       "      <td>9.0</td>\n",
       "      <td>FC Barcelona</td>\n",
       "      <td>ST</td>\n",
       "      <td>9.0</td>\n",
       "      <td>07/11/2014</td>\n",
       "      <td>2021.0</td>\n",
       "      <td>92</td>\n",
       "      <td>...</td>\n",
       "      <td>86</td>\n",
       "      <td>86</td>\n",
       "      <td>84</td>\n",
       "      <td>85</td>\n",
       "      <td>88</td>\n",
       "      <td>33</td>\n",
       "      <td>27</td>\n",
       "      <td>31</td>\n",
       "      <td>25</td>\n",
       "      <td>37</td>\n",
       "    </tr>\n",
       "    <tr>\n",
       "      <th>4</th>\n",
       "      <td>Manuel Neuer</td>\n",
       "      <td>Germany</td>\n",
       "      <td>GK</td>\n",
       "      <td>1.0</td>\n",
       "      <td>FC Bayern</td>\n",
       "      <td>GK</td>\n",
       "      <td>1.0</td>\n",
       "      <td>07/01/2011</td>\n",
       "      <td>2021.0</td>\n",
       "      <td>92</td>\n",
       "      <td>...</td>\n",
       "      <td>16</td>\n",
       "      <td>14</td>\n",
       "      <td>11</td>\n",
       "      <td>47</td>\n",
       "      <td>11</td>\n",
       "      <td>91</td>\n",
       "      <td>89</td>\n",
       "      <td>95</td>\n",
       "      <td>90</td>\n",
       "      <td>89</td>\n",
       "    </tr>\n",
       "    <tr>\n",
       "      <th>5</th>\n",
       "      <td>De Gea</td>\n",
       "      <td>Spain</td>\n",
       "      <td>GK</td>\n",
       "      <td>1.0</td>\n",
       "      <td>Manchester Utd</td>\n",
       "      <td>GK</td>\n",
       "      <td>1.0</td>\n",
       "      <td>07/01/2011</td>\n",
       "      <td>2019.0</td>\n",
       "      <td>90</td>\n",
       "      <td>...</td>\n",
       "      <td>12</td>\n",
       "      <td>21</td>\n",
       "      <td>19</td>\n",
       "      <td>40</td>\n",
       "      <td>13</td>\n",
       "      <td>86</td>\n",
       "      <td>88</td>\n",
       "      <td>87</td>\n",
       "      <td>85</td>\n",
       "      <td>90</td>\n",
       "    </tr>\n",
       "    <tr>\n",
       "      <th>6</th>\n",
       "      <td>Robert Lewandowski</td>\n",
       "      <td>Poland</td>\n",
       "      <td>LS</td>\n",
       "      <td>9.0</td>\n",
       "      <td>FC Bayern</td>\n",
       "      <td>ST</td>\n",
       "      <td>9.0</td>\n",
       "      <td>07/01/2014</td>\n",
       "      <td>2021.0</td>\n",
       "      <td>90</td>\n",
       "      <td>...</td>\n",
       "      <td>82</td>\n",
       "      <td>77</td>\n",
       "      <td>76</td>\n",
       "      <td>81</td>\n",
       "      <td>86</td>\n",
       "      <td>8</td>\n",
       "      <td>15</td>\n",
       "      <td>12</td>\n",
       "      <td>6</td>\n",
       "      <td>10</td>\n",
       "    </tr>\n",
       "  </tbody>\n",
       "</table>\n",
       "<p>7 rows × 53 columns</p>\n",
       "</div>"
      ],
      "text/plain": [
       "                 Name Nationality National_Position  National_Kit  \\\n",
       "0   Cristiano Ronaldo    Portugal                LS           7.0   \n",
       "1        Lionel Messi   Argentina                RW          10.0   \n",
       "2              Neymar      Brazil                LW          10.0   \n",
       "3         Luis Suárez     Uruguay                LS           9.0   \n",
       "4        Manuel Neuer     Germany                GK           1.0   \n",
       "5              De Gea       Spain                GK           1.0   \n",
       "6  Robert Lewandowski      Poland                LS           9.0   \n",
       "\n",
       "             Club Club_Position  Club_Kit Club_Joining  Contract_Expiry  \\\n",
       "0     Real Madrid            LW       7.0   07/01/2009           2021.0   \n",
       "1    FC Barcelona            RW      10.0   07/01/2004           2018.0   \n",
       "2    FC Barcelona            LW      11.0   07/01/2013           2021.0   \n",
       "3    FC Barcelona            ST       9.0   07/11/2014           2021.0   \n",
       "4       FC Bayern            GK       1.0   07/01/2011           2021.0   \n",
       "5  Manchester Utd            GK       1.0   07/01/2011           2019.0   \n",
       "6       FC Bayern            ST       9.0   07/01/2014           2021.0   \n",
       "\n",
       "   Rating  ... Long_Shots Curve Freekick_Accuracy Penalties  Volleys  \\\n",
       "0      94  ...         90    81                76        85       88   \n",
       "1      93  ...         88    89                90        74       85   \n",
       "2      92  ...         77    79                84        81       83   \n",
       "3      92  ...         86    86                84        85       88   \n",
       "4      92  ...         16    14                11        47       11   \n",
       "5      90  ...         12    21                19        40       13   \n",
       "6      90  ...         82    77                76        81       86   \n",
       "\n",
       "  GK_Positioning GK_Diving  GK_Kicking  GK_Handling  GK_Reflexes  \n",
       "0             14         7          15           11           11  \n",
       "1             14         6          15           11            8  \n",
       "2             15         9          15            9           11  \n",
       "3             33        27          31           25           37  \n",
       "4             91        89          95           90           89  \n",
       "5             86        88          87           85           90  \n",
       "6              8        15          12            6           10  \n",
       "\n",
       "[7 rows x 53 columns]"
      ]
     },
     "execution_count": 3,
     "metadata": {},
     "output_type": "execute_result"
    }
   ],
   "source": [
    "#Done for 4-3-3 formation\n",
    "import pandas as pd\n",
    "import seaborn as sns\n",
    "import matplotlib.pyplot as plt\n",
    "import numpy as np\n",
    "%matplotlib inline\n",
    "df = pd.read_csv(\"FullData.csv\")\n",
    "df.head(7)"
   ]
  },
  {
   "cell_type": "code",
   "execution_count": 10,
   "metadata": {},
   "outputs": [
    {
     "data": {
      "text/html": [
       "<div>\n",
       "<style scoped>\n",
       "    .dataframe tbody tr th:only-of-type {\n",
       "        vertical-align: middle;\n",
       "    }\n",
       "\n",
       "    .dataframe tbody tr th {\n",
       "        vertical-align: top;\n",
       "    }\n",
       "\n",
       "    .dataframe thead th {\n",
       "        text-align: right;\n",
       "    }\n",
       "</style>\n",
       "<table border=\"1\" class=\"dataframe\">\n",
       "  <thead>\n",
       "    <tr style=\"text-align: right;\">\n",
       "      <th></th>\n",
       "      <th>Name</th>\n",
       "      <th>Nationality</th>\n",
       "      <th>National_Position</th>\n",
       "      <th>Club</th>\n",
       "      <th>Club_Position</th>\n",
       "      <th>Rating</th>\n",
       "      <th>Height</th>\n",
       "      <th>Weight</th>\n",
       "      <th>Preffered_Foot</th>\n",
       "      <th>Age</th>\n",
       "      <th>...</th>\n",
       "      <th>Long_Shots</th>\n",
       "      <th>Curve</th>\n",
       "      <th>Freekick_Accuracy</th>\n",
       "      <th>Penalties</th>\n",
       "      <th>Volleys</th>\n",
       "      <th>GK_Positioning</th>\n",
       "      <th>GK_Diving</th>\n",
       "      <th>GK_Kicking</th>\n",
       "      <th>GK_Handling</th>\n",
       "      <th>GK_Reflexes</th>\n",
       "    </tr>\n",
       "  </thead>\n",
       "  <tbody>\n",
       "    <tr>\n",
       "      <th>0</th>\n",
       "      <td>Cristiano Ronaldo</td>\n",
       "      <td>Portugal</td>\n",
       "      <td>LS</td>\n",
       "      <td>Real Madrid</td>\n",
       "      <td>LW</td>\n",
       "      <td>94</td>\n",
       "      <td>185 cm</td>\n",
       "      <td>80 kg</td>\n",
       "      <td>Right</td>\n",
       "      <td>32</td>\n",
       "      <td>...</td>\n",
       "      <td>90</td>\n",
       "      <td>81</td>\n",
       "      <td>76</td>\n",
       "      <td>85</td>\n",
       "      <td>88</td>\n",
       "      <td>14</td>\n",
       "      <td>7</td>\n",
       "      <td>15</td>\n",
       "      <td>11</td>\n",
       "      <td>11</td>\n",
       "    </tr>\n",
       "    <tr>\n",
       "      <th>1</th>\n",
       "      <td>Lionel Messi</td>\n",
       "      <td>Argentina</td>\n",
       "      <td>RW</td>\n",
       "      <td>FC Barcelona</td>\n",
       "      <td>RW</td>\n",
       "      <td>93</td>\n",
       "      <td>170 cm</td>\n",
       "      <td>72 kg</td>\n",
       "      <td>Left</td>\n",
       "      <td>29</td>\n",
       "      <td>...</td>\n",
       "      <td>88</td>\n",
       "      <td>89</td>\n",
       "      <td>90</td>\n",
       "      <td>74</td>\n",
       "      <td>85</td>\n",
       "      <td>14</td>\n",
       "      <td>6</td>\n",
       "      <td>15</td>\n",
       "      <td>11</td>\n",
       "      <td>8</td>\n",
       "    </tr>\n",
       "    <tr>\n",
       "      <th>2</th>\n",
       "      <td>Neymar</td>\n",
       "      <td>Brazil</td>\n",
       "      <td>LW</td>\n",
       "      <td>FC Barcelona</td>\n",
       "      <td>LW</td>\n",
       "      <td>92</td>\n",
       "      <td>174 cm</td>\n",
       "      <td>68 kg</td>\n",
       "      <td>Right</td>\n",
       "      <td>25</td>\n",
       "      <td>...</td>\n",
       "      <td>77</td>\n",
       "      <td>79</td>\n",
       "      <td>84</td>\n",
       "      <td>81</td>\n",
       "      <td>83</td>\n",
       "      <td>15</td>\n",
       "      <td>9</td>\n",
       "      <td>15</td>\n",
       "      <td>9</td>\n",
       "      <td>11</td>\n",
       "    </tr>\n",
       "    <tr>\n",
       "      <th>3</th>\n",
       "      <td>Luis Suárez</td>\n",
       "      <td>Uruguay</td>\n",
       "      <td>LS</td>\n",
       "      <td>FC Barcelona</td>\n",
       "      <td>ST</td>\n",
       "      <td>92</td>\n",
       "      <td>182 cm</td>\n",
       "      <td>85 kg</td>\n",
       "      <td>Right</td>\n",
       "      <td>30</td>\n",
       "      <td>...</td>\n",
       "      <td>86</td>\n",
       "      <td>86</td>\n",
       "      <td>84</td>\n",
       "      <td>85</td>\n",
       "      <td>88</td>\n",
       "      <td>33</td>\n",
       "      <td>27</td>\n",
       "      <td>31</td>\n",
       "      <td>25</td>\n",
       "      <td>37</td>\n",
       "    </tr>\n",
       "    <tr>\n",
       "      <th>4</th>\n",
       "      <td>Manuel Neuer</td>\n",
       "      <td>Germany</td>\n",
       "      <td>GK</td>\n",
       "      <td>FC Bayern</td>\n",
       "      <td>GK</td>\n",
       "      <td>92</td>\n",
       "      <td>193 cm</td>\n",
       "      <td>92 kg</td>\n",
       "      <td>Right</td>\n",
       "      <td>31</td>\n",
       "      <td>...</td>\n",
       "      <td>16</td>\n",
       "      <td>14</td>\n",
       "      <td>11</td>\n",
       "      <td>47</td>\n",
       "      <td>11</td>\n",
       "      <td>91</td>\n",
       "      <td>89</td>\n",
       "      <td>95</td>\n",
       "      <td>90</td>\n",
       "      <td>89</td>\n",
       "    </tr>\n",
       "  </tbody>\n",
       "</table>\n",
       "<p>5 rows × 48 columns</p>\n",
       "</div>"
      ],
      "text/plain": [
       "                Name Nationality National_Position          Club  \\\n",
       "0  Cristiano Ronaldo    Portugal                LS   Real Madrid   \n",
       "1       Lionel Messi   Argentina                RW  FC Barcelona   \n",
       "2             Neymar      Brazil                LW  FC Barcelona   \n",
       "3        Luis Suárez     Uruguay                LS  FC Barcelona   \n",
       "4       Manuel Neuer     Germany                GK     FC Bayern   \n",
       "\n",
       "  Club_Position  Rating  Height Weight Preffered_Foot  Age  ... Long_Shots  \\\n",
       "0            LW      94  185 cm  80 kg          Right   32  ...         90   \n",
       "1            RW      93  170 cm  72 kg           Left   29  ...         88   \n",
       "2            LW      92  174 cm  68 kg          Right   25  ...         77   \n",
       "3            ST      92  182 cm  85 kg          Right   30  ...         86   \n",
       "4            GK      92  193 cm  92 kg          Right   31  ...         16   \n",
       "\n",
       "  Curve  Freekick_Accuracy  Penalties  Volleys  GK_Positioning  GK_Diving  \\\n",
       "0    81                 76         85       88              14          7   \n",
       "1    89                 90         74       85              14          6   \n",
       "2    79                 84         81       83              15          9   \n",
       "3    86                 84         85       88              33         27   \n",
       "4    14                 11         47       11              91         89   \n",
       "\n",
       "   GK_Kicking  GK_Handling  GK_Reflexes  \n",
       "0          15           11           11  \n",
       "1          15           11            8  \n",
       "2          15            9           11  \n",
       "3          31           25           37  \n",
       "4          95           90           89  \n",
       "\n",
       "[5 rows x 48 columns]"
      ]
     },
     "execution_count": 10,
     "metadata": {},
     "output_type": "execute_result"
    }
   ],
   "source": [
    "#simplifying the dataset\n",
    "clean_df=df.drop(['National_Kit', 'Club_Kit','Club_Joining','Contract_Expiry','Birth_Date'],axis=1)\n",
    "clean_df.head()"
   ]
  },
  {
   "cell_type": "code",
   "execution_count": 35,
   "metadata": {},
   "outputs": [
    {
     "data": {
      "image/png": "[encoded data removed]",
      "text/plain": [
       "<Figure size 360x360 with 1 Axes>"
      ]
     },
     "metadata": {
      "needs_background": "light"
     },
     "output_type": "display_data"
    }
   ],
   "source": [
    "plt.figure(figsize=(5,5))\n",
    "sns.countplot(y=clean_df.Nationality,palette=\"Set3\",order=clean_df['Nationality'].value_counts().iloc[:10].index)\n",
    "#A countplot showing the top 10 countries sorted by the number of players from their nation \n",
    "#This is just for a brief understanding about the contribution of each country"
   ]
  },
  {
   "cell_type": "code",
   "execution_count": 38,
   "metadata": {},
   "outputs": [
    {
     "data": {
      "text/plain": [
       "<matplotlib.axes._subplots.AxesSubplot at 0x1d51749a668>"
      ]
     },
     "execution_count": 38,
     "metadata": {},
     "output_type": "execute_result"
    },
    {
     "data": {
      "image/png": "[encoded data removed]",
      "text/plain": [
       "<Figure size 1080x432 with 1 Axes>"
      ]
     },
     "metadata": {
      "needs_background": "light"
     },
     "output_type": "display_data"
    }
   ],
   "source": [
    "plt.figure(figsize=(15,6))\n",
    "sns.countplot(x=\"Age\",data=clean_df,color=\"c\")  \n",
    "#A bar graph representing the numbers of players in each age group. "
   ]
  },
  {
   "cell_type": "code",
   "execution_count": 96,
   "metadata": {},
   "outputs": [
    {
     "data": {
      "text/plain": [
       "Text(0, 0.5, 'Shot Stopping Score')"
      ]
     },
     "execution_count": 96,
     "metadata": {},
     "output_type": "execute_result"
    },
    {
     "data": {
      "image/png": "[encoded data removed]",
      "text/plain": [
       "<Figure size 1080x432 with 1 Axes>"
      ]
     },
     "metadata": {
      "needs_background": "light"
     },
     "output_type": "display_data"
    }
   ],
   "source": [
    "#Finding the best goalkeeper\n",
    "#weights\n",
    "a,b,c,d=0.5,1,2,3\n",
    "clean_df['gk_Shot_Stopper'] = (b*df.Reactions + b*df.Composure + a*df.Speed + a*df.Strength + c*df.Jumping + b*df.GK_Positioning + c*df.GK_Diving + d*df.GK_Reflexes + b*df.GK_Handling)/(2*a + 4*b + 2*c + 1*d)\n",
    "clean_df['gk_Sweeper'] = (b*df.Reactions + b*df.Composure + b*df.Speed + a*df.Short_Pass + a*df.Long_Pass + b*df.Jumping + b*df.GK_Positioning + b*df.GK_Diving + d*df.GK_Reflexes + b*df.GK_Handling + d*df.GK_Kicking + c*df.Vision)/(2*a + 4*b + 3*c + 2*d)\n",
    "plt.figure(figsize=(15,6))\n",
    "\n",
    "sd = clean_df.sort_values('gk_Shot_Stopper', ascending=False)[:5]\n",
    "x1 = np.array(list(sd['Name']))\n",
    "y1 = np.array(list(sd['gk_Shot_Stopper']))\n",
    "sns.barplot(x1, y1, palette= \"pastel\")\n",
    "plt.ylabel(\"Shot Stopping Score\")\n"
   ]
  },
  {
   "cell_type": "code",
   "execution_count": 93,
   "metadata": {},
   "outputs": [
    {
     "data": {
      "text/plain": [
       "Text(0, 0.5, 'Sweeping Score')"
      ]
     },
     "execution_count": 93,
     "metadata": {},
     "output_type": "execute_result"
    },
    {
     "data": {
      "image/png": "[encoded data removed]",
      "text/plain": [
       "<Figure size 1080x432 with 1 Axes>"
      ]
     },
     "metadata": {
      "needs_background": "light"
     },
     "output_type": "display_data"
    }
   ],
   "source": [
    "plt.figure(figsize=(15,6))\n",
    "sd1 = clean_df.sort_values('gk_Sweeper', ascending=False)[:5]\n",
    "x2 = np.array(list(sd1['Name']))\n",
    "y2 = np.array(list(sd1['gk_Sweeper']))\n",
    "sns.barplot(x2, y2, palette= \"pastel\")\n",
    "plt.ylabel(\"Sweeping Score\")\n"
   ]
  },
  {
   "cell_type": "code",
   "execution_count": 136,
   "metadata": {},
   "outputs": [
    {
     "data": {
      "text/plain": [
       "'Manuel Neuer'"
      ]
     },
     "execution_count": 136,
     "metadata": {},
     "output_type": "execute_result"
    }
   ],
   "source": [
    "#Function of find the best Goal Keeper\n",
    "clean_df['Gkscore']=clean_df['gk_Shot_Stopper']+clean_df['gk_Sweeper']\n",
    "def BestGK():\n",
    "    a=clean_df.nlargest(1, ['Gkscore'])['Name']\n",
    "    b=list(a)\n",
    "    for i in b:\n",
    "        return i\n",
    "BestGK()"
   ]
  },
  {
   "cell_type": "code",
   "execution_count": 138,
   "metadata": {},
   "outputs": [
    {
     "data": {
      "text/plain": [
       "'Sergio Ramos'"
      ]
     },
     "execution_count": 138,
     "metadata": {},
     "output_type": "execute_result"
    }
   ],
   "source": [
    "#Choosing the defenders\n",
    "#1.The best Left Centre Back\n",
    "clean_df['df_centre_backs'] = ( d*df.Reactions + c*df.Interceptions + d*df.Sliding_Tackle + d*df.Standing_Tackle + b*df.Vision+ b*df.Composure + b*df.Crossing +a*df.Short_Pass + b*df.Long_Pass+ c*df.Acceleration + b*df.Speed\n",
    "+ d*df.Stamina + d*df.Jumping + d*df.Heading + b*df.Long_Shots + d*df.Marking + c*df.Aggression)/(6*b + 3*c + 7*d)\n",
    "clean_df['df_wb_Wing_Backs'] = (b*df.Ball_Control + a*df.Dribbling + a*df.Marking + d*df.Sliding_Tackle + d*df.Standing_Tackle + a*df.Attacking_Position + c*df.Vision + c*df.Crossing + b*df.Short_Pass + c*df.Long_Pass + d*df.Acceleration +d*df.Speed + c*df.Stamina + a*df.Finishing)/(4*a + 2*b + 4*c + 4*d)\n",
    "def bestlcb():\n",
    "    Bestlcb= clean_df[(clean_df['Club_Position'] == 'LCB')].sort_values('df_centre_backs', ascending=False)[:1]\n",
    "\n",
    "    return Bestlcb.values[0][0]\n",
    "bestlcb()"
   ]
  },
  {
   "cell_type": "code",
   "execution_count": 140,
   "metadata": {},
   "outputs": [
    {
     "data": {
      "text/plain": [
       "'Azpilicueta'"
      ]
     },
     "execution_count": 140,
     "metadata": {},
     "output_type": "execute_result"
    }
   ],
   "source": [
    "#2.The best right Centre Center:\n",
    "def bestrcb():\n",
    "    Bestrcb= clean_df[(clean_df['Club_Position'] == 'RCB')].sort_values('df_centre_backs', ascending=False)[:1]\n",
    "\n",
    "    return Bestrcb.values[0][0]\n",
    "bestrcb()"
   ]
  },
  {
   "cell_type": "code",
   "execution_count": 148,
   "metadata": {},
   "outputs": [
    {
     "data": {
      "text/plain": [
       "'David Alaba'"
      ]
     },
     "execution_count": 148,
     "metadata": {},
     "output_type": "execute_result"
    }
   ],
   "source": [
    "def bestlb():\n",
    "    Bestlb=  clean_df[(clean_df['Club_Position'] == 'LWB') | (clean_df['Club_Position'] == 'LB')].sort_values('df_wb_Wing_Backs', ascending=False)[:1]\n",
    "    return Bestlb.values[0][0]\n",
    "bestlb()"
   ]
  },
  {
   "cell_type": "code",
   "execution_count": 149,
   "metadata": {},
   "outputs": [
    {
     "data": {
      "text/plain": [
       "'Kyle Walker'"
      ]
     },
     "execution_count": 149,
     "metadata": {},
     "output_type": "execute_result"
    }
   ],
   "source": [
    "def bestrb():\n",
    "    Bestrb= clean_df[(clean_df['Club_Position'] == 'RWB') | (clean_df['Club_Position'] == 'RB')].sort_values('df_wb_Wing_Backs', ascending=False)[:1]\n",
    "    return Bestrb.values[0][0]\n",
    "bestrb()"
   ]
  },
  {
   "cell_type": "code",
   "execution_count": 150,
   "metadata": {},
   "outputs": [],
   "source": [
    "#Now we need to set up the midfield\n",
    "#Classify players as Controllers,PassMakers,Defensive midfielder\n",
    "clean_df['mf_playmaker'] = (d*df.Ball_Control + d*df.Dribbling + a*df.Marking + d*df.Reactions + d*df.Vision + c*df.Attacking_Position + c*df.Crossing + d*df.Short_Pass + c*df.Long_Pass + c*df.Curve + b*df.Long_Shots + c*df.Freekick_Accuracy)/(1*a + 1*b + 4*c + 4*d)\n",
    "clean_df['mf_beast'] = (d*df.Agility + c*df.Balance + b*df.Jumping + c*df.Strength + d*df.Stamina + a*df.Speed + c*df.Acceleration + d*df.Short_Pass + c*df.Aggression + d*df.Reactions + b*df.Marking + b*df.Standing_Tackle + b*df.Sliding_Tackle + b*df.Interceptions)/(1*a + 5*b + 4*c + 4*d)\n",
    "clean_df['mf_controller'] = (b*df.Weak_foot + d*df.Ball_Control + a*df.Dribbling + a*df.Marking + a*df.Reactions + c*df.Vision + c*df.Composure + d*df.Short_Pass + d*df.Long_Pass)/(2*c + 3*d + 4*a)\n"
   ]
  },
  {
   "cell_type": "code",
   "execution_count": 157,
   "metadata": {},
   "outputs": [
    {
     "data": {
      "text/plain": [
       "Text(0, 0.5, 'PlayMaker Score')"
      ]
     },
     "execution_count": 157,
     "metadata": {},
     "output_type": "execute_result"
    },
    {
     "data": {
      "image/png": "[encoded data removed]",
      "text/plain": [
       "<Figure size 576x432 with 1 Axes>"
      ]
     },
     "metadata": {
      "needs_background": "light"
     },
     "output_type": "display_data"
    }
   ],
   "source": [
    "plt.figure(figsize=(8,6))\n",
    " \n",
    "ss = clean_df[(clean_df['Club_Position'] == 'CAM') | (clean_df['Club_Position'] == 'LAM') | (clean_df['Club_Position'] == 'RAM')].sort_values('mf_playmaker', ascending=False)[:5]\n",
    "x3 = np.array(list(ss['Name']))\n",
    "y3 = np.array(list(ss['mf_playmaker']))\n",
    "sns.barplot(x3, y3, palette='pastel')\n",
    "plt.ylabel(\"PlayMaker Score\")"
   ]
  },
  {
   "cell_type": "code",
   "execution_count": 158,
   "metadata": {},
   "outputs": [
    {
     "data": {
      "text/plain": [
       "'Mesut Özil'"
      ]
     },
     "execution_count": 158,
     "metadata": {},
     "output_type": "execute_result"
    }
   ],
   "source": [
    "def playmaker():\n",
    "    return ss[:1].values[0][0]\n",
    "playmaker()"
   ]
  },
  {
   "cell_type": "code",
   "execution_count": 159,
   "metadata": {},
   "outputs": [
    {
     "data": {
      "text/plain": [
       "\"N'Golo Kanté\""
      ]
     },
     "execution_count": 159,
     "metadata": {},
     "output_type": "execute_result"
    }
   ],
   "source": [
    "def  Defensivemid():\n",
    "    defmid=clean_df[(clean_df['Club_Position'] == 'RCM') | (clean_df['Club_Position'] == 'RM')].sort_values('mf_beast', ascending=False)[:1]\n",
    "    return defmid.values[0][0]\n",
    "Defensivemid()"
   ]
  },
  {
   "cell_type": "code",
   "execution_count": 160,
   "metadata": {},
   "outputs": [
    {
     "data": {
      "text/plain": [
       "'Iniesta'"
      ]
     },
     "execution_count": 160,
     "metadata": {},
     "output_type": "execute_result"
    }
   ],
   "source": [
    "def controller():\n",
    "    cont=clean_df[(clean_df['Club_Position'] == 'LCM') | (clean_df['Club_Position'] == 'LM')].sort_values('mf_controller', ascending=False)[:1]\n",
    "    return cont.values[0][0]\n",
    "controller()"
   ]
  },
  {
   "cell_type": "code",
   "execution_count": 164,
   "metadata": {},
   "outputs": [
    {
     "data": {
      "text/plain": [
       "Text(0, 0.5, 'Left Wing')"
      ]
     },
     "execution_count": 164,
     "metadata": {},
     "output_type": "execute_result"
    },
    {
     "data": {
      "image/png": "[encoded data removed]",
      "text/plain": [
       "<Figure size 576x432 with 1 Axes>"
      ]
     },
     "metadata": {
      "needs_background": "light"
     },
     "output_type": "display_data"
    }
   ],
   "source": [
    "#Now lets come to the forwards!\n",
    "#LW,RW,ST\n",
    "clean_df['att_left_wing'] = (c*df.Weak_foot + c*df.Ball_Control + c*df.Dribbling + c*df.Speed + d*df.Acceleration + b*df.Vision + c*df.Crossing + b*df.Short_Pass + b*df.Long_Pass + b*df.Aggression + b*df.Agility + a*df.Curve + c*df.Long_Shots + b*df.Freekick_Accuracy + d*df.Finishing)/(a + 6*b + 6*c + 2*d)\n",
    "clean_df['att_right_wing'] = (c*df.Weak_foot + c*df.Ball_Control + c*df.Dribbling + c*df.Speed + d*df.Acceleration + b*df.Vision + c*df.Crossing + b*df.Short_Pass + b*df.Long_Pass + b*df.Aggression + b*df.Agility + a*df.Curve + c*df.Long_Shots + b*df.Freekick_Accuracy + d*df.Finishing)/(a + 6*b + 6*c + 2*d)\n",
    "clean_df['att_striker'] = (b*df.Weak_foot + b*df.Ball_Control + a*df.Vision + b*df.Aggression + b*df.Agility + a*df.Curve + a*df.Long_Shots + d*df.Balance + d*df.Finishing + d*df.Heading + c*df.Jumping + c*df.Dribbling)/(3*a + 4*b + 2*c + 3*d)\n",
    "\n",
    "plt.figure(figsize=(8,6))\n",
    " \n",
    "ss1 = clean_df[(clean_df['Club_Position'] == 'LW') | (clean_df['Club_Position'] == 'LM') | (clean_df['Club_Position'] == 'LS')].sort_values('att_left_wing', ascending=False)[:5]\n",
    "x1 = np.array(list(ss1['Name']))\n",
    "y1 = np.array(list(ss1['att_left_wing']))\n",
    "sns.barplot(x1, y1, palette='pastel')\n",
    "plt.ylabel(\"Left Wing\")"
   ]
  },
  {
   "cell_type": "code",
   "execution_count": 165,
   "metadata": {},
   "outputs": [
    {
     "data": {
      "text/plain": [
       "'Cristiano Ronaldo'"
      ]
     },
     "execution_count": 165,
     "metadata": {},
     "output_type": "execute_result"
    }
   ],
   "source": [
    "def leftwinger():\n",
    "    return ss1[:1].values[0][0]\n",
    "leftwinger()"
   ]
  },
  {
   "cell_type": "code",
   "execution_count": 166,
   "metadata": {},
   "outputs": [
    {
     "data": {
      "text/plain": [
       "'Lionel Messi'"
      ]
     },
     "execution_count": 166,
     "metadata": {},
     "output_type": "execute_result"
    }
   ],
   "source": [
    "def rightwinger():\n",
    "    rw=clean_df[(clean_df['Club_Position'] == 'RW') | (clean_df['Club_Position'] == 'RM') | (clean_df['Club_Position'] == 'RS')].sort_values('att_right_wing', ascending=False)[:1]\n",
    "    return rw.values[0][0]\n",
    "rightwinger()"
   ]
  },
  {
   "cell_type": "code",
   "execution_count": 172,
   "metadata": {},
   "outputs": [
    {
     "data": {
      "text/plain": [
       "Text(0, 0.5, 'Striker')"
      ]
     },
     "execution_count": 172,
     "metadata": {},
     "output_type": "execute_result"
    },
    {
     "data": {
      "image/png": "[encoded data removed]",
      "text/plain": [
       "<Figure size 576x432 with 1 Axes>"
      ]
     },
     "metadata": {
      "needs_background": "light"
     },
     "output_type": "display_data"
    }
   ],
   "source": [
    "plt.figure(figsize=(8,6))\n",
    "ss2 = clean_df[(clean_df['Club_Position'] == 'ST') | (clean_df['Club_Position'] == 'LS') | (clean_df['Club_Position'] == 'RS') | (clean_df['Club_Position'] == 'CF')].sort_values('att_striker', ascending=False)[:5]\n",
    "x3 = np.array(list(ss2['Name']))\n",
    "y3 = np.array(list(ss2['att_striker']))\n",
    "sns.barplot(x3, y3, palette=\"muted\")\n",
    "plt.ylabel(\"Striker\")"
   ]
  },
  {
   "cell_type": "code",
   "execution_count": 168,
   "metadata": {},
   "outputs": [
    {
     "data": {
      "text/plain": [
       "'Robert Lewandowski'"
      ]
     },
     "execution_count": 168,
     "metadata": {},
     "output_type": "execute_result"
    }
   ],
   "source": [
    "def striker():\n",
    "    st=clean_df[(clean_df['Club_Position'] == 'ST') | (clean_df['Club_Position'] == 'LS') | (clean_df['Club_Position'] == 'RS') | (clean_df['Club_Position'] == 'CF')].sort_values('att_striker', ascending=False)[:1]\n",
    "    return st.values[0][0]\n",
    "striker()"
   ]
  },
  {
   "cell_type": "code",
   "execution_count": 183,
   "metadata": {},
   "outputs": [
    {
     "name": "stdout",
     "output_type": "stream",
     "text": [
      "----The best Team----\n",
      "Striker: Robert Lewandowski\n",
      "LeftWinger: Cristiano Ronaldo\n",
      "RightWinger: Lionel Messi\n",
      "Left midfield/cm: Iniesta\n",
      "Central Attacker: Mesut Özil\n",
      "Right Midfield: N'Golo Kanté\n",
      "RightBack: Kyle Walker\n",
      "CenterBack: Azpilicueta\n",
      "CenterBack: Sergio Ramos\n",
      "LeftBack: Kyle Walker\n"
     ]
    }
   ],
   "source": [
    "#Now we can get the final team:\n",
    "print(\"----The best Team----\")\n",
    "print(\"Striker: %s\" % striker())\n",
    "print(\"LeftWinger: %s\" % leftwinger())\n",
    "print(\"RightWinger: %s\" % rightwinger())\n",
    "print(\"Left midfield/cm: %s\" % controller())\n",
    "print(\"Central Attacker: %s\" % playmaker())\n",
    "print(\"Right Midfield: %s\" %  Defensivemid())\n",
    "print(\"RightBack: %s\" % bestrb())\n",
    "print(\"CenterBack: %s\" % bestrcb())\n",
    "print(\"CenterBack: %s\" % bestlcb())\n",
    "print(\"LeftBack: %s\" % bestrb())"
   ]
  },
  {
   "cell_type": "code",
   "execution_count": null,
   "metadata": {},
   "outputs": [],
   "source": []
  }
 ],
 "metadata": {
  "kernelspec": {
   "display_name": "Python 3",
   "language": "python",
   "name": "python3"
  },
  "language_info": {
   "codemirror_mode": {
    "name": "ipython",
    "version": 3
   },
   "file_extension": ".py",
   "mimetype": "text/x-python",
   "name": "python",
   "nbconvert_exporter": "python",
   "pygments_lexer": "ipython3",
   "version": "3.7.3"
  }
 },
 "nbformat": 4,
 "nbformat_minor": 2
}
